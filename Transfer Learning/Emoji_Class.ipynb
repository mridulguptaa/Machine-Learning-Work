{
 "cells": [
  {
   "cell_type": "code",
   "execution_count": 1,
   "metadata": {},
   "outputs": [],
   "source": [
    "import emoji\n"
   ]
  },
  {
   "cell_type": "markdown",
   "metadata": {},
   "source": [
    "# Wrong Dataset, making for learning only"
   ]
  },
  {
   "cell_type": "code",
   "execution_count": 2,
   "metadata": {},
   "outputs": [
    {
     "name": "stdout",
     "output_type": "stream",
     "text": [
      "<class 'dict'>\n"
     ]
    }
   ],
   "source": [
    "print(type(emoji.UNICODE_EMOJI))"
   ]
  },
  {
   "cell_type": "code",
   "execution_count": 3,
   "metadata": {},
   "outputs": [
    {
     "name": "stdout",
     "output_type": "stream",
     "text": [
      "😠\n",
      "👌🏻\n"
     ]
    }
   ],
   "source": [
    "print(emoji.emojize(\":angry_face:\"))\n",
    "print(emoji.emojize(\":OK_hand_light_skin_tone:\"))"
   ]
  },
  {
   "cell_type": "code",
   "execution_count": 4,
   "metadata": {},
   "outputs": [],
   "source": [
    "#emoji.EMOJI_UNICODE"
   ]
  },
  {
   "cell_type": "code",
   "execution_count": 5,
   "metadata": {},
   "outputs": [],
   "source": [
    "import pandas as pd"
   ]
  },
  {
   "cell_type": "code",
   "execution_count": null,
   "metadata": {},
   "outputs": [],
   "source": []
  },
  {
   "cell_type": "code",
   "execution_count": 58,
   "metadata": {},
   "outputs": [],
   "source": [
    "data_train_x = pd.read_csv(\"emoji_train_x.csv\",header=None).values\n",
    "data_test_x = pd.read_csv(\"emoji_test_x.csv\",header=None).values\n",
    "\n",
    "data_train_y = pd.read_csv(\"emoji_train_y.csv\",header=None).values\n",
    "data_test_y = pd.read_csv(\"emoji_test_y.csv\",header=None).values\n",
    "\n",
    "\n"
   ]
  },
  {
   "cell_type": "code",
   "execution_count": 60,
   "metadata": {},
   "outputs": [
    {
     "data": {
      "text/plain": [
       "array([[3],\n",
       "       [2],\n",
       "       [3],\n",
       "       [0],\n",
       "       [4],\n",
       "       [0],\n",
       "       [3],\n",
       "       [2],\n",
       "       [3],\n",
       "       [1],\n",
       "       [3],\n",
       "       [3],\n",
       "       [1],\n",
       "       [3],\n",
       "       [2],\n",
       "       [3],\n",
       "       [2],\n",
       "       [3],\n",
       "       [1],\n",
       "       [2],\n",
       "       [3],\n",
       "       [0],\n",
       "       [2],\n",
       "       [2],\n",
       "       [2],\n",
       "       [1],\n",
       "       [4],\n",
       "       [2],\n",
       "       [2],\n",
       "       [4],\n",
       "       [0],\n",
       "       [3],\n",
       "       [4],\n",
       "       [2],\n",
       "       [0],\n",
       "       [3],\n",
       "       [2],\n",
       "       [2],\n",
       "       [3],\n",
       "       [4],\n",
       "       [2],\n",
       "       [2],\n",
       "       [0],\n",
       "       [2],\n",
       "       [3],\n",
       "       [0],\n",
       "       [3],\n",
       "       [2],\n",
       "       [4],\n",
       "       [3],\n",
       "       [0],\n",
       "       [3],\n",
       "       [3],\n",
       "       [3],\n",
       "       [4],\n",
       "       [2],\n",
       "       [1],\n",
       "       [1],\n",
       "       [1],\n",
       "       [2],\n",
       "       [3],\n",
       "       [1],\n",
       "       [0],\n",
       "       [0],\n",
       "       [0],\n",
       "       [3],\n",
       "       [4],\n",
       "       [4],\n",
       "       [2],\n",
       "       [2],\n",
       "       [1],\n",
       "       [2],\n",
       "       [0],\n",
       "       [3],\n",
       "       [2],\n",
       "       [2],\n",
       "       [0],\n",
       "       [0],\n",
       "       [3],\n",
       "       [1],\n",
       "       [2],\n",
       "       [1],\n",
       "       [2],\n",
       "       [2],\n",
       "       [4],\n",
       "       [3],\n",
       "       [3],\n",
       "       [2],\n",
       "       [4],\n",
       "       [0],\n",
       "       [0],\n",
       "       [0],\n",
       "       [3],\n",
       "       [3],\n",
       "       [3],\n",
       "       [2],\n",
       "       [0],\n",
       "       [1],\n",
       "       [2],\n",
       "       [3],\n",
       "       [0],\n",
       "       [2],\n",
       "       [2],\n",
       "       [2],\n",
       "       [3],\n",
       "       [2],\n",
       "       [2],\n",
       "       [2],\n",
       "       [4],\n",
       "       [1],\n",
       "       [1],\n",
       "       [3],\n",
       "       [3],\n",
       "       [4],\n",
       "       [1],\n",
       "       [2],\n",
       "       [1],\n",
       "       [1],\n",
       "       [3],\n",
       "       [1],\n",
       "       [0],\n",
       "       [4],\n",
       "       [0],\n",
       "       [3],\n",
       "       [3],\n",
       "       [4],\n",
       "       [4],\n",
       "       [1],\n",
       "       [4],\n",
       "       [3],\n",
       "       [0],\n",
       "       [2]], dtype=int64)"
      ]
     },
     "execution_count": 60,
     "metadata": {},
     "output_type": "execute_result"
    }
   ],
   "source": [
    "data_train_y"
   ]
  },
  {
   "cell_type": "code",
   "execution_count": 61,
   "metadata": {},
   "outputs": [],
   "source": [
    "emoji_dict = {\n",
    "    0:\":beating_heart:\",\n",
    "    1:\":baseball:\",\n",
    "    2:\":beaming_face_with_smiling_eyes:\",\n",
    "    3:\":disappointed_face:\",\n",
    "    4:\":fork_and_knife:\"    \n",
    "}"
   ]
  },
  {
   "cell_type": "code",
   "execution_count": 62,
   "metadata": {},
   "outputs": [
    {
     "name": "stdout",
     "output_type": "stream",
     "text": [
      "💓\n",
      "⚾\n",
      "😁\n",
      "😞\n",
      "🍴\n"
     ]
    }
   ],
   "source": [
    "for ix in emoji_dict.values():\n",
    "    print(emoji.emojize(ix))"
   ]
  },
  {
   "cell_type": "code",
   "execution_count": null,
   "metadata": {},
   "outputs": [],
   "source": []
  },
  {
   "cell_type": "code",
   "execution_count": null,
   "metadata": {},
   "outputs": [],
   "source": []
  },
  {
   "cell_type": "code",
   "execution_count": 63,
   "metadata": {},
   "outputs": [
    {
     "ename": "AttributeError",
     "evalue": "'numpy.ndarray' object has no attribute 'iloc'",
     "output_type": "error",
     "traceback": [
      "\u001b[1;31m---------------------------------------------------------------------------\u001b[0m",
      "\u001b[1;31mAttributeError\u001b[0m                            Traceback (most recent call last)",
      "\u001b[1;32m<ipython-input-63-088baefad801>\u001b[0m in \u001b[0;36m<module>\u001b[1;34m()\u001b[0m\n\u001b[0;32m      2\u001b[0m \u001b[1;31m#doing just for testing the code\u001b[0m\u001b[1;33m\u001b[0m\u001b[1;33m\u001b[0m\u001b[0m\n\u001b[0;32m      3\u001b[0m \u001b[1;33m\u001b[0m\u001b[0m\n\u001b[1;32m----> 4\u001b[1;33m \u001b[0mX_train\u001b[0m \u001b[1;33m=\u001b[0m \u001b[0mdata_train_x\u001b[0m\u001b[1;33m.\u001b[0m\u001b[0miloc\u001b[0m\u001b[1;33m[\u001b[0m\u001b[1;33m:\u001b[0m\u001b[1;36m53\u001b[0m\u001b[1;33m]\u001b[0m\u001b[1;33m\u001b[0m\u001b[0m\n\u001b[0m\u001b[0;32m      5\u001b[0m \u001b[1;31m#_test = data_test_x.iloc[:53\u001b[0m\u001b[1;33m\u001b[0m\u001b[1;33m\u001b[0m\u001b[0m\n\u001b[0;32m      6\u001b[0m \u001b[0mY_train\u001b[0m \u001b[1;33m=\u001b[0m \u001b[0mdata_train_y\u001b[0m\u001b[1;33m.\u001b[0m\u001b[0miloc\u001b[0m\u001b[1;33m[\u001b[0m\u001b[1;33m:\u001b[0m\u001b[1;36m53\u001b[0m\u001b[1;33m]\u001b[0m\u001b[1;33m\u001b[0m\u001b[0m\n",
      "\u001b[1;31mAttributeError\u001b[0m: 'numpy.ndarray' object has no attribute 'iloc'"
     ]
    }
   ],
   "source": [
    "#Dataset is wrong\n",
    "#doing just for testing the code\n",
    "\n",
    "X_train = data_train_x.iloc[:53]\n",
    "#_test = data_test_x.iloc[:53\n",
    "Y_train = data_train_y.iloc[:53]\n",
    "#_test = data_train_y.iloc[:,0\n"
   ]
  },
  {
   "cell_type": "code",
   "execution_count": 64,
   "metadata": {},
   "outputs": [
    {
     "name": "stdout",
     "output_type": "stream",
     "text": [
      "(53, 1)\n",
      "(53, 1)\n"
     ]
    }
   ],
   "source": [
    "print(X_train.shape)\n",
    "print(Y_train.shape)\n",
    "#print(X_test.shape)\n",
    "#print(Y_test.shape)"
   ]
  },
  {
   "cell_type": "code",
   "execution_count": null,
   "metadata": {},
   "outputs": [],
   "source": []
  },
  {
   "cell_type": "code",
   "execution_count": 65,
   "metadata": {},
   "outputs": [
    {
     "name": "stdout",
     "output_type": "stream",
     "text": [
      "0     'never talk to me again' 'I am proud of your a...\n",
      "1      'It is the worst day in my life' 'Miss you so...\n",
      "2               'I love you mum' 'Stop saying bullshit'\n",
      "3      'congratulations on your acceptance' 'The ass...\n",
      "4      'I want to go play' 'she did not answer my te...\n",
      "5      'Your stupidity has no limit' 'how many point...\n",
      "6      'my algorithm performs poorly' 'I got approve...\n",
      "7      'Sounds like a fun plan ha ha' 'no one likes ...\n",
      "8      'I will celebrate soon' 'So sad you are not c...\n",
      "9      'She is my dearest love' 'Good job' 'It was f...\n",
      "10           'The chicago cubs won again' 'I am hungry'\n",
      "11     'I am so excited to see you after so long' 'y...\n",
      "12     'lets brunch some day' 'he is so cute' 'How d...\n",
      "13     'do you want to join me for dinner ' 'I said ...\n",
      "14       'you suck' 'she smiles a lot' 'he is laughing'\n",
      "15     'she takes forever to get ready ' 'French mac...\n",
      "16     'we made it' 'I am excited' 'I adore my dogs'...\n",
      "17              'this girl was mean' 'you two are cute'\n",
      "18     'my code is working but the grader gave me zero'\n",
      "19     'this joke is killing me haha' 'do you like p...\n",
      "20         'I missed you' 'I think I will end up alone'\n",
      "21     'I got humiliated by my sister' 'you are awfu...\n",
      "22     'This is so funny' 'lets exercise' 'he is the...\n",
      "23     'I am going to the stadium' 'You are incredib...\n",
      "24     'Stop shouting at me' 'Who is your favorite p...\n",
      "25     'i miss him' 'my dog just had a few puppies' ...\n",
      "26     'I want chinese food' 'cookies are good' 'her...\n",
      "27     'Bravo for the announcement it got a lot of t...\n",
      "28       'he did an amazing job' 'The baby is adorable'\n",
      "29       'I was waiting for her for two hours ' 'funny'\n",
      "30          'I like it when people smile' 'I love dogs'\n",
      "31     'they are so kind and friendly' 'So bad that ...\n",
      "32     'he likes baseball' 'I am so impressed by you...\n",
      "33     'I am at the baseball game' 'Bravo' 'What a f...\n",
      "34     'I want to have sushi for dinner' 'I am very ...\n",
      "35     'he can not do anything' 'lol' 'Lets have foo...\n",
      "36     'miss you my dear' 'I am looking for a date' ...\n",
      "37     'I lost my wallet' 'you failed the midterm' '...\n",
      "38     'Do you want to give me a hug' 'who is playin...\n",
      "39     'she is happy' 'You are not qualified for thi...\n",
      "40     'this guy was such a joke' 'Good joke' 'This ...\n",
      "41     'you could not solve it' 'I am so happy for y...\n",
      "42     'I am proud of you forever' 'I want to eat' '...\n",
      "43      'The first base man got the ball' 'this is bad'\n",
      "44     'you did not do your homework' 'I will have a...\n",
      "45     'do you have a ball' 'the lectures are great ...\n",
      "46           'Are you down for baseball this afternoon'\n",
      "47     'what are the rules of the game' 'I am always...\n",
      "48     'where is the stadium' 'She is the cutest per...\n",
      "49     'vegetables are healthy' 'he is handsome' 'to...\n",
      "50     'you are a loser' 'I love indian food' 'Who i...\n",
      "51     'he had to make a home run' 'I am ordering fo...\n",
      "52                            'I love you' 'great job']\n",
      "Name: 0, dtype: object\n"
     ]
    }
   ],
   "source": [
    "print(X_train[0])"
   ]
  },
  {
   "cell_type": "code",
   "execution_count": 68,
   "metadata": {},
   "outputs": [
    {
     "ename": "TypeError",
     "evalue": "'DataFrame' objects are mutable, thus they cannot be hashed",
     "output_type": "error",
     "traceback": [
      "\u001b[1;31m---------------------------------------------------------------------------\u001b[0m",
      "\u001b[1;31mTypeError\u001b[0m                                 Traceback (most recent call last)",
      "\u001b[1;32m<ipython-input-68-c089d8fe2f49>\u001b[0m in \u001b[0;36m<module>\u001b[1;34m()\u001b[0m\n\u001b[1;32m----> 1\u001b[1;33m \u001b[0mprint\u001b[0m\u001b[1;33m(\u001b[0m\u001b[0memoji\u001b[0m\u001b[1;33m.\u001b[0m\u001b[0memojize\u001b[0m\u001b[1;33m(\u001b[0m\u001b[0memoji_dict\u001b[0m\u001b[1;33m[\u001b[0m\u001b[0mY_train\u001b[0m\u001b[1;33m]\u001b[0m\u001b[1;33m)\u001b[0m\u001b[1;33m)\u001b[0m\u001b[1;33m\u001b[0m\u001b[0m\n\u001b[0m",
      "\u001b[1;32mc:\\users\\mridul gupta\\appdata\\local\\programs\\python\\python36-32\\lib\\site-packages\\pandas\\core\\generic.py\u001b[0m in \u001b[0;36m__hash__\u001b[1;34m(self)\u001b[0m\n\u001b[0;32m   1490\u001b[0m     \u001b[1;32mdef\u001b[0m \u001b[0m__hash__\u001b[0m\u001b[1;33m(\u001b[0m\u001b[0mself\u001b[0m\u001b[1;33m)\u001b[0m\u001b[1;33m:\u001b[0m\u001b[1;33m\u001b[0m\u001b[0m\n\u001b[0;32m   1491\u001b[0m         raise TypeError('{0!r} objects are mutable, thus they cannot be'\n\u001b[1;32m-> 1492\u001b[1;33m                         ' hashed'.format(self.__class__.__name__))\n\u001b[0m\u001b[0;32m   1493\u001b[0m \u001b[1;33m\u001b[0m\u001b[0m\n\u001b[0;32m   1494\u001b[0m     \u001b[1;32mdef\u001b[0m \u001b[0m__iter__\u001b[0m\u001b[1;33m(\u001b[0m\u001b[0mself\u001b[0m\u001b[1;33m)\u001b[0m\u001b[1;33m:\u001b[0m\u001b[1;33m\u001b[0m\u001b[0m\n",
      "\u001b[1;31mTypeError\u001b[0m: 'DataFrame' objects are mutable, thus they cannot be hashed"
     ]
    }
   ],
   "source": [
    "print(emoji.emojize(emoji_dict[Y_train]))"
   ]
  },
  {
   "cell_type": "code",
   "execution_count": 67,
   "metadata": {},
   "outputs": [
    {
     "ename": "AttributeError",
     "evalue": "'Series' object has no attribute 'lower'",
     "output_type": "error",
     "traceback": [
      "\u001b[1;31m---------------------------------------------------------------------------\u001b[0m",
      "\u001b[1;31mAttributeError\u001b[0m                            Traceback (most recent call last)",
      "\u001b[1;32m<ipython-input-67-6a6960fc15c5>\u001b[0m in \u001b[0;36m<module>\u001b[1;34m()\u001b[0m\n\u001b[0;32m      1\u001b[0m \u001b[1;31m#convert every sentence into a list of words\u001b[0m\u001b[1;33m\u001b[0m\u001b[1;33m\u001b[0m\u001b[0m\n\u001b[0;32m      2\u001b[0m \u001b[1;32mfor\u001b[0m \u001b[0mix\u001b[0m \u001b[1;32min\u001b[0m \u001b[0mrange\u001b[0m\u001b[1;33m(\u001b[0m\u001b[1;36m132\u001b[0m\u001b[1;33m)\u001b[0m\u001b[1;33m:\u001b[0m\u001b[1;33m\u001b[0m\u001b[0m\n\u001b[1;32m----> 3\u001b[1;33m     \u001b[0mX_train\u001b[0m\u001b[1;33m[\u001b[0m\u001b[0mix\u001b[0m\u001b[1;33m]\u001b[0m \u001b[1;33m=\u001b[0m \u001b[0mX_train\u001b[0m\u001b[1;33m[\u001b[0m\u001b[0mix\u001b[0m\u001b[1;33m]\u001b[0m\u001b[1;33m.\u001b[0m\u001b[0mlower\u001b[0m\u001b[1;33m(\u001b[0m\u001b[1;33m)\u001b[0m\u001b[1;33m.\u001b[0m\u001b[0msplit\u001b[0m\u001b[1;33m(\u001b[0m\u001b[1;33m)\u001b[0m\u001b[1;33m\u001b[0m\u001b[0m\n\u001b[0m",
      "\u001b[1;32mc:\\users\\mridul gupta\\appdata\\local\\programs\\python\\python36-32\\lib\\site-packages\\pandas\\core\\generic.py\u001b[0m in \u001b[0;36m__getattr__\u001b[1;34m(self, name)\u001b[0m\n\u001b[0;32m   4374\u001b[0m             \u001b[1;32mif\u001b[0m \u001b[0mself\u001b[0m\u001b[1;33m.\u001b[0m\u001b[0m_info_axis\u001b[0m\u001b[1;33m.\u001b[0m\u001b[0m_can_hold_identifiers_and_holds_name\u001b[0m\u001b[1;33m(\u001b[0m\u001b[0mname\u001b[0m\u001b[1;33m)\u001b[0m\u001b[1;33m:\u001b[0m\u001b[1;33m\u001b[0m\u001b[0m\n\u001b[0;32m   4375\u001b[0m                 \u001b[1;32mreturn\u001b[0m \u001b[0mself\u001b[0m\u001b[1;33m[\u001b[0m\u001b[0mname\u001b[0m\u001b[1;33m]\u001b[0m\u001b[1;33m\u001b[0m\u001b[0m\n\u001b[1;32m-> 4376\u001b[1;33m             \u001b[1;32mreturn\u001b[0m \u001b[0mobject\u001b[0m\u001b[1;33m.\u001b[0m\u001b[0m__getattribute__\u001b[0m\u001b[1;33m(\u001b[0m\u001b[0mself\u001b[0m\u001b[1;33m,\u001b[0m \u001b[0mname\u001b[0m\u001b[1;33m)\u001b[0m\u001b[1;33m\u001b[0m\u001b[0m\n\u001b[0m\u001b[0;32m   4377\u001b[0m \u001b[1;33m\u001b[0m\u001b[0m\n\u001b[0;32m   4378\u001b[0m     \u001b[1;32mdef\u001b[0m \u001b[0m__setattr__\u001b[0m\u001b[1;33m(\u001b[0m\u001b[0mself\u001b[0m\u001b[1;33m,\u001b[0m \u001b[0mname\u001b[0m\u001b[1;33m,\u001b[0m \u001b[0mvalue\u001b[0m\u001b[1;33m)\u001b[0m\u001b[1;33m:\u001b[0m\u001b[1;33m\u001b[0m\u001b[0m\n",
      "\u001b[1;31mAttributeError\u001b[0m: 'Series' object has no attribute 'lower'"
     ]
    }
   ],
   "source": [
    "#convert every sentence into a list of words\n",
    "for ix in range(132):\n",
    "    X_train[ix] = X_train[ix].lower().split()"
   ]
  },
  {
   "cell_type": "code",
   "execution_count": 174,
   "metadata": {},
   "outputs": [
    {
     "name": "stdout",
     "output_type": "stream",
     "text": [
      "['i', 'am', 'proud', 'of', 'your', 'achievements']\n"
     ]
    }
   ],
   "source": [
    "print(X_train[1])"
   ]
  },
  {
   "cell_type": "code",
   "execution_count": 175,
   "metadata": {},
   "outputs": [],
   "source": [
    "def read_glove_vecs(glove_file):\n",
    "    with open(glove_file, 'r',encoding='utf8') as f:\n",
    "        words = set()\n",
    "        word_to_vec_map = {}\n",
    "        for line in f:\n",
    "            line = line.strip().split()\n",
    "            curr_word = line[0]\n",
    "            words.add(curr_word)\n",
    "            word_to_vec_map[curr_word] = np.array(line[1:], dtype=np.float64)\n",
    "        \n",
    "        i = 1\n",
    "        words_to_index = {}\n",
    "        index_to_words = {}\n",
    "        for w in sorted(words):\n",
    "            words_to_index[w] = i\n",
    "            index_to_words[i] = w\n",
    "            i = i + 1\n",
    "    return words_to_index, index_to_words, word_to_vec_map\n"
   ]
  },
  {
   "cell_type": "code",
   "execution_count": 176,
   "metadata": {},
   "outputs": [],
   "source": [
    "import numpy as np\n",
    "words_to_index, index_to_words, word_to_vec_map = read_glove_vecs(\"glove6b50dtxt/glove.6B.50d.txt\")"
   ]
  },
  {
   "cell_type": "code",
   "execution_count": 177,
   "metadata": {},
   "outputs": [
    {
     "data": {
      "text/plain": [
       "(50,)"
      ]
     },
     "execution_count": 177,
     "metadata": {},
     "output_type": "execute_result"
    }
   ],
   "source": [
    "word_to_vec_map[\"happy\"].shape"
   ]
  },
  {
   "cell_type": "code",
   "execution_count": 178,
   "metadata": {},
   "outputs": [],
   "source": [
    "def avg_vector(words):\n",
    "    \n",
    "    ans = word_to_vec_map[words[0]]\n",
    "   # print(ans)\n",
    "    for i in range(1,len(words)):\n",
    "        ans = np.add(ans,word_to_vec_map[words[i]])\n",
    "    ans = ans/float(len(words))\n",
    "    return ans    "
   ]
  },
  {
   "cell_type": "code",
   "execution_count": 179,
   "metadata": {},
   "outputs": [],
   "source": [
    "ans = avg_vector(X_train[0])"
   ]
  },
  {
   "cell_type": "code",
   "execution_count": 180,
   "metadata": {},
   "outputs": [],
   "source": [
    "X_numbers = np.zeros((132,50))"
   ]
  },
  {
   "cell_type": "code",
   "execution_count": 181,
   "metadata": {},
   "outputs": [],
   "source": [
    "for i in range(X_train.shape[0]):\n",
    "    X_numbers[i] = avg_vector(X_train[i])"
   ]
  },
  {
   "cell_type": "code",
   "execution_count": 182,
   "metadata": {},
   "outputs": [
    {
     "name": "stdout",
     "output_type": "stream",
     "text": [
      "(132, 50)\n",
      "[[ 0.0971846   0.0174374   0.052843   ... -0.2522034  -0.2197784\n",
      "   0.307606  ]\n",
      " [ 0.00563117  0.59711333 -0.13939717 ... -0.06701233 -0.025773\n",
      "   0.32180167]\n",
      " [ 0.27343125  0.33763875 -0.33053875 ... -0.335001    0.06524875\n",
      "  -0.04257963]\n",
      " ...\n",
      " [ 0.29220562  0.1533622  -0.015246   ...  0.032272    0.1313342\n",
      "   0.472114  ]\n",
      " [-0.00701397  0.54196333 -0.19225433 ... -0.80106333 -0.20057967\n",
      "   0.78087   ]\n",
      " [-0.1149985   0.6452325  -0.39727    ...  0.142175   -0.2057708\n",
      "   0.5231    ]]\n"
     ]
    }
   ],
   "source": [
    "print(X_numbers.shape)\n",
    "print(X_numbers)"
   ]
  },
  {
   "cell_type": "code",
   "execution_count": 183,
   "metadata": {},
   "outputs": [],
   "source": [
    "from keras.models import Sequential\n",
    "from keras.layers import Dense,Input,Activation\n",
    "from keras.utils import to_categorical\n"
   ]
  },
  {
   "cell_type": "code",
   "execution_count": 224,
   "metadata": {},
   "outputs": [],
   "source": [
    "model = Sequential()\n",
    "# Build neural network\n",
    "model.add(Dense(10, activation='relu', input_shape=(50,)))\n",
    "model.add(Dense(5, activation='softmax'))"
   ]
  },
  {
   "cell_type": "code",
   "execution_count": 225,
   "metadata": {},
   "outputs": [],
   "source": [
    "model.compile(optimizer='adam',\n",
    "              loss='categorical_crossentropy',\n",
    "              metrics=['accuracy'])"
   ]
  },
  {
   "cell_type": "code",
   "execution_count": 226,
   "metadata": {},
   "outputs": [
    {
     "name": "stdout",
     "output_type": "stream",
     "text": [
      "(132,)\n",
      "(132, 5)\n"
     ]
    }
   ],
   "source": [
    "print(Y_train.shape)\n",
    "Y_onehot = to_categorical(Y_train)\n",
    "print(Y_onehot.shape)"
   ]
  },
  {
   "cell_type": "code",
   "execution_count": 227,
   "metadata": {},
   "outputs": [
    {
     "name": "stdout",
     "output_type": "stream",
     "text": [
      "3\n",
      "[0. 0. 0. 1. 0.]\n"
     ]
    }
   ],
   "source": [
    "print(Y_train[0])\n",
    "print(Y_onehot[0])"
   ]
  },
  {
   "cell_type": "code",
   "execution_count": 228,
   "metadata": {},
   "outputs": [
    {
     "name": "stdout",
     "output_type": "stream",
     "text": [
      "Epoch 1/100\n",
      "132/132 [==============================] - 1s 8ms/step - loss: 1.6152 - acc: 0.2727\n",
      "Epoch 2/100\n",
      "132/132 [==============================] - 0s 147us/step - loss: 1.5821 - acc: 0.2727\n",
      "Epoch 3/100\n",
      "132/132 [==============================] - 0s 128us/step - loss: 1.5582 - acc: 0.2879\n",
      "Epoch 4/100\n",
      "132/132 [==============================] - 0s 136us/step - loss: 1.5366 - acc: 0.3030\n",
      "Epoch 5/100\n",
      "132/132 [==============================] - 0s 212us/step - loss: 1.5166 - acc: 0.3182\n",
      "Epoch 6/100\n",
      "132/132 [==============================] - 0s 174us/step - loss: 1.5012 - acc: 0.3182\n",
      "Epoch 7/100\n",
      "132/132 [==============================] - 0s 98us/step - loss: 1.4876 - acc: 0.3333\n",
      "Epoch 8/100\n",
      "132/132 [==============================] - 0s 113us/step - loss: 1.4751 - acc: 0.3636\n",
      "Epoch 9/100\n",
      "132/132 [==============================] - 0s 106us/step - loss: 1.4663 - acc: 0.3864\n",
      "Epoch 10/100\n",
      "132/132 [==============================] - 0s 166us/step - loss: 1.4580 - acc: 0.4242\n",
      "Epoch 11/100\n",
      "132/132 [==============================] - 0s 367us/step - loss: 1.4488 - acc: 0.4470\n",
      "Epoch 12/100\n",
      "132/132 [==============================] - 0s 197us/step - loss: 1.4420 - acc: 0.4470\n",
      "Epoch 13/100\n",
      "132/132 [==============================] - 0s 110us/step - loss: 1.4348 - acc: 0.4394\n",
      "Epoch 14/100\n",
      "132/132 [==============================] - 0s 101us/step - loss: 1.4287 - acc: 0.4318\n",
      "Epoch 15/100\n",
      "132/132 [==============================] - 0s 131us/step - loss: 1.4230 - acc: 0.4545\n",
      "Epoch 16/100\n",
      "132/132 [==============================] - 0s 98us/step - loss: 1.4175 - acc: 0.4773\n",
      "Epoch 17/100\n",
      "132/132 [==============================] - 0s 113us/step - loss: 1.4121 - acc: 0.4621\n",
      "Epoch 18/100\n",
      "132/132 [==============================] - 0s 234us/step - loss: 1.4063 - acc: 0.4621\n",
      "Epoch 19/100\n",
      "132/132 [==============================] - 0s 113us/step - loss: 1.4008 - acc: 0.4545\n",
      "Epoch 20/100\n",
      "132/132 [==============================] - 0s 98us/step - loss: 1.3946 - acc: 0.4394\n",
      "Epoch 21/100\n",
      "132/132 [==============================] - 0s 129us/step - loss: 1.3896 - acc: 0.4621\n",
      "Epoch 22/100\n",
      "132/132 [==============================] - 0s 98us/step - loss: 1.3833 - acc: 0.4697\n",
      "Epoch 23/100\n",
      "132/132 [==============================] - 0s 106us/step - loss: 1.3774 - acc: 0.4621\n",
      "Epoch 24/100\n",
      "132/132 [==============================] - 0s 144us/step - loss: 1.3720 - acc: 0.4621\n",
      "Epoch 25/100\n",
      "132/132 [==============================] - 0s 159us/step - loss: 1.3665 - acc: 0.4697\n",
      "Epoch 26/100\n",
      "132/132 [==============================] - 0s 272us/step - loss: 1.3607 - acc: 0.4848\n",
      "Epoch 27/100\n",
      "132/132 [==============================] - 0s 143us/step - loss: 1.3547 - acc: 0.4924\n",
      "Epoch 28/100\n",
      "132/132 [==============================] - 0s 318us/step - loss: 1.3483 - acc: 0.4924\n",
      "Epoch 29/100\n",
      "132/132 [==============================] - 0s 122us/step - loss: 1.3428 - acc: 0.5076\n",
      "Epoch 30/100\n",
      "132/132 [==============================] - 0s 136us/step - loss: 1.3351 - acc: 0.5000\n",
      "Epoch 31/100\n",
      "132/132 [==============================] - 0s 196us/step - loss: 1.3290 - acc: 0.5076\n",
      "Epoch 32/100\n",
      "132/132 [==============================] - 0s 136us/step - loss: 1.3213 - acc: 0.5152\n",
      "Epoch 33/100\n",
      "132/132 [==============================] - 0s 106us/step - loss: 1.3149 - acc: 0.5076\n",
      "Epoch 34/100\n",
      "132/132 [==============================] - 0s 128us/step - loss: 1.3076 - acc: 0.4924\n",
      "Epoch 35/100\n",
      "132/132 [==============================] - 0s 113us/step - loss: 1.3017 - acc: 0.5076\n",
      "Epoch 36/100\n",
      "132/132 [==============================] - 0s 121us/step - loss: 1.2942 - acc: 0.5076\n",
      "Epoch 37/100\n",
      "132/132 [==============================] - 0s 453us/step - loss: 1.2880 - acc: 0.5076\n",
      "Epoch 38/100\n",
      "132/132 [==============================] - ETA: 0s - loss: 1.4020 - acc: 0.437 - 0s 174us/step - loss: 1.2827 - acc: 0.5000\n",
      "Epoch 39/100\n",
      "132/132 [==============================] - 0s 121us/step - loss: 1.2774 - acc: 0.5076\n",
      "Epoch 40/100\n",
      "132/132 [==============================] - 0s 128us/step - loss: 1.2719 - acc: 0.5000\n",
      "Epoch 41/100\n",
      "132/132 [==============================] - 0s 113us/step - loss: 1.2665 - acc: 0.5000\n",
      "Epoch 42/100\n",
      "132/132 [==============================] - 0s 151us/step - loss: 1.2612 - acc: 0.5076\n",
      "Epoch 43/100\n",
      "132/132 [==============================] - 0s 242us/step - loss: 1.2552 - acc: 0.5303\n",
      "Epoch 44/100\n",
      "132/132 [==============================] - 0s 136us/step - loss: 1.2505 - acc: 0.5303\n",
      "Epoch 45/100\n",
      "132/132 [==============================] - 0s 113us/step - loss: 1.2452 - acc: 0.5303\n",
      "Epoch 46/100\n",
      "132/132 [==============================] - 0s 121us/step - loss: 1.2398 - acc: 0.5379\n",
      "Epoch 47/100\n",
      "132/132 [==============================] - 0s 113us/step - loss: 1.2344 - acc: 0.5303\n",
      "Epoch 48/100\n",
      "132/132 [==============================] - 0s 128us/step - loss: 1.2291 - acc: 0.5303\n",
      "Epoch 49/100\n",
      "132/132 [==============================] - 0s 136us/step - loss: 1.2244 - acc: 0.5379\n",
      "Epoch 50/100\n",
      "132/132 [==============================] - 0s 204us/step - loss: 1.2187 - acc: 0.5379\n",
      "Epoch 51/100\n",
      "132/132 [==============================] - 0s 121us/step - loss: 1.2130 - acc: 0.5379\n",
      "Epoch 52/100\n",
      "132/132 [==============================] - 0s 128us/step - loss: 1.2091 - acc: 0.5303\n",
      "Epoch 53/100\n",
      "132/132 [==============================] - 0s 113us/step - loss: 1.2052 - acc: 0.5152\n",
      "Epoch 54/100\n",
      "132/132 [==============================] - 0s 113us/step - loss: 1.2016 - acc: 0.5152\n",
      "Epoch 55/100\n",
      "132/132 [==============================] - 0s 128us/step - loss: 1.1976 - acc: 0.5152\n",
      "Epoch 56/100\n",
      "132/132 [==============================] - 0s 113us/step - loss: 1.1933 - acc: 0.5152\n",
      "Epoch 57/100\n",
      "132/132 [==============================] - 0s 113us/step - loss: 1.1886 - acc: 0.5152\n",
      "Epoch 58/100\n",
      "132/132 [==============================] - 0s 325us/step - loss: 1.1830 - acc: 0.5227\n",
      "Epoch 59/100\n",
      "132/132 [==============================] - 0s 234us/step - loss: 1.1782 - acc: 0.5379\n",
      "Epoch 60/100\n",
      "132/132 [==============================] - 0s 181us/step - loss: 1.1722 - acc: 0.5379\n",
      "Epoch 61/100\n",
      "132/132 [==============================] - 0s 181us/step - loss: 1.1660 - acc: 0.5455\n",
      "Epoch 62/100\n",
      "132/132 [==============================] - 0s 113us/step - loss: 1.1608 - acc: 0.5530\n",
      "Epoch 63/100\n",
      "132/132 [==============================] - ETA: 0s - loss: 1.1674 - acc: 0.500 - 0s 113us/step - loss: 1.1558 - acc: 0.5379\n",
      "Epoch 64/100\n",
      "132/132 [==============================] - 0s 136us/step - loss: 1.1511 - acc: 0.5379\n",
      "Epoch 65/100\n",
      "132/132 [==============================] - 0s 121us/step - loss: 1.1460 - acc: 0.5606\n",
      "Epoch 66/100\n",
      "132/132 [==============================] - 0s 128us/step - loss: 1.1408 - acc: 0.5606\n",
      "Epoch 67/100\n",
      "132/132 [==============================] - 0s 129us/step - loss: 1.1352 - acc: 0.5682\n",
      "Epoch 68/100\n",
      "132/132 [==============================] - 0s 113us/step - loss: 1.1296 - acc: 0.5682\n",
      "Epoch 69/100\n",
      "132/132 [==============================] - 0s 113us/step - loss: 1.1250 - acc: 0.5682\n",
      "Epoch 70/100\n",
      "132/132 [==============================] - ETA: 0s - loss: 0.9753 - acc: 0.687 - 0s 113us/step - loss: 1.1197 - acc: 0.5682\n",
      "Epoch 71/100\n",
      "132/132 [==============================] - 0s 121us/step - loss: 1.1150 - acc: 0.5682\n",
      "Epoch 72/100\n",
      "132/132 [==============================] - 0s 136us/step - loss: 1.1099 - acc: 0.5758\n",
      "Epoch 73/100\n",
      "132/132 [==============================] - 0s 106us/step - loss: 1.1039 - acc: 0.5758\n",
      "Epoch 74/100\n",
      "132/132 [==============================] - 0s 128us/step - loss: 1.0991 - acc: 0.5758\n",
      "Epoch 75/100\n",
      "132/132 [==============================] - 0s 340us/step - loss: 1.0938 - acc: 0.5833\n",
      "Epoch 76/100\n",
      "132/132 [==============================] - 0s 128us/step - loss: 1.0884 - acc: 0.5833\n",
      "Epoch 77/100\n",
      "132/132 [==============================] - 0s 128us/step - loss: 1.0826 - acc: 0.5833\n",
      "Epoch 78/100\n",
      "132/132 [==============================] - 0s 189us/step - loss: 1.0768 - acc: 0.5833\n",
      "Epoch 79/100\n",
      "132/132 [==============================] - 0s 113us/step - loss: 1.0708 - acc: 0.5758\n",
      "Epoch 80/100\n",
      "132/132 [==============================] - 0s 106us/step - loss: 1.0645 - acc: 0.5758\n",
      "Epoch 81/100\n",
      "132/132 [==============================] - 0s 113us/step - loss: 1.0594 - acc: 0.5833\n",
      "Epoch 82/100\n",
      "132/132 [==============================] - 0s 159us/step - loss: 1.0541 - acc: 0.5833\n",
      "Epoch 83/100\n",
      "132/132 [==============================] - 0s 136us/step - loss: 1.0479 - acc: 0.5833\n",
      "Epoch 84/100\n",
      "132/132 [==============================] - 0s 128us/step - loss: 1.0419 - acc: 0.5985\n",
      "Epoch 85/100\n",
      "132/132 [==============================] - 0s 227us/step - loss: 1.0355 - acc: 0.6061\n",
      "Epoch 86/100\n",
      "132/132 [==============================] - 0s 113us/step - loss: 1.0290 - acc: 0.5985\n",
      "Epoch 87/100\n",
      "132/132 [==============================] - 0s 144us/step - loss: 1.0233 - acc: 0.5985\n",
      "Epoch 88/100\n",
      "132/132 [==============================] - 0s 98us/step - loss: 1.0175 - acc: 0.5909\n",
      "Epoch 89/100\n",
      "132/132 [==============================] - 0s 136us/step - loss: 1.0108 - acc: 0.5985\n",
      "Epoch 90/100\n",
      "132/132 [==============================] - 0s 113us/step - loss: 1.0062 - acc: 0.6136\n",
      "Epoch 91/100\n",
      "132/132 [==============================] - 0s 121us/step - loss: 1.0003 - acc: 0.6288\n",
      "Epoch 92/100\n",
      "132/132 [==============================] - 0s 166us/step - loss: 0.9958 - acc: 0.6136\n",
      "Epoch 93/100\n",
      "132/132 [==============================] - 0s 257us/step - loss: 0.9892 - acc: 0.6212\n",
      "Epoch 94/100\n",
      "132/132 [==============================] - 0s 136us/step - loss: 0.9813 - acc: 0.6364\n",
      "Epoch 95/100\n",
      "132/132 [==============================] - 0s 121us/step - loss: 0.9735 - acc: 0.6439\n",
      "Epoch 96/100\n",
      "132/132 [==============================] - 0s 174us/step - loss: 0.9674 - acc: 0.6439\n",
      "Epoch 97/100\n",
      "132/132 [==============================] - 0s 151us/step - loss: 0.9614 - acc: 0.6364\n",
      "Epoch 98/100\n",
      "132/132 [==============================] - 0s 212us/step - loss: 0.9557 - acc: 0.6364\n",
      "Epoch 99/100\n",
      "132/132 [==============================] - 0s 136us/step - loss: 0.9503 - acc: 0.6439\n",
      "Epoch 100/100\n",
      "132/132 [==============================] - 0s 144us/step - loss: 0.9435 - acc: 0.6515\n"
     ]
    },
    {
     "data": {
      "text/plain": [
       "<keras.callbacks.History at 0x1bf468b3160>"
      ]
     },
     "execution_count": 228,
     "metadata": {},
     "output_type": "execute_result"
    }
   ],
   "source": [
    "model.fit(X_numbers,Y_onehot,epochs=100)"
   ]
  },
  {
   "cell_type": "code",
   "execution_count": 229,
   "metadata": {},
   "outputs": [
    {
     "name": "stdout",
     "output_type": "stream",
     "text": [
      "['congratulations', 'on', 'your', 'acceptance']\n"
     ]
    }
   ],
   "source": [
    "i = 7\n",
    "print(data[0][i])"
   ]
  },
  {
   "cell_type": "code",
   "execution_count": 239,
   "metadata": {},
   "outputs": [],
   "source": [
    "output = np.argmax(model.predict(X_numbers),axis=1)"
   ]
  },
  {
   "cell_type": "code",
   "execution_count": 241,
   "metadata": {},
   "outputs": [
    {
     "name": "stdout",
     "output_type": "stream",
     "text": [
      "0    3\n",
      "1    2\n",
      "2    3\n",
      "3    0\n",
      "4    4\n",
      "5    0\n",
      "6    3\n",
      "7    2\n",
      "8    3\n",
      "9    1\n",
      "Name: 1, dtype: int64\n"
     ]
    }
   ],
   "source": [
    "print(Y_train[:10])"
   ]
  },
  {
   "cell_type": "code",
   "execution_count": 244,
   "metadata": {},
   "outputs": [
    {
     "data": {
      "text/plain": [
       "86"
      ]
     },
     "execution_count": 244,
     "metadata": {},
     "output_type": "execute_result"
    }
   ],
   "source": [
    "np.sum(output==Y_train)"
   ]
  },
  {
   "cell_type": "code",
   "execution_count": 261,
   "metadata": {},
   "outputs": [
    {
     "name": "stdout",
     "output_type": "stream",
     "text": [
      "(50,)\n",
      "(1, 50)\n"
     ]
    }
   ],
   "source": [
    "text = \"i love this movie\"\n",
    "\n",
    "avg_v = avg_vector(text.split())\n",
    "print(avg_v.shape)\n",
    "avg_v= avg_v.reshape(1,50)\n",
    "print(avg_v.shape)"
   ]
  },
  {
   "cell_type": "code",
   "execution_count": 262,
   "metadata": {},
   "outputs": [],
   "source": [
    "emoji_label_predict = np.argmax(model.predict(avg_v))"
   ]
  },
  {
   "cell_type": "code",
   "execution_count": 263,
   "metadata": {},
   "outputs": [
    {
     "name": "stdout",
     "output_type": "stream",
     "text": [
      "2\n",
      "😁\n"
     ]
    }
   ],
   "source": [
    "print(emoji_label_predict)\n",
    "print(emoji.emojize(emoji_dict[emoji_label_predict]))"
   ]
  },
  {
   "cell_type": "code",
   "execution_count": null,
   "metadata": {},
   "outputs": [],
   "source": []
  },
  {
   "cell_type": "code",
   "execution_count": null,
   "metadata": {},
   "outputs": [],
   "source": []
  },
  {
   "cell_type": "code",
   "execution_count": null,
   "metadata": {},
   "outputs": [],
   "source": []
  },
  {
   "cell_type": "code",
   "execution_count": null,
   "metadata": {},
   "outputs": [],
   "source": []
  },
  {
   "cell_type": "code",
   "execution_count": null,
   "metadata": {},
   "outputs": [],
   "source": []
  },
  {
   "cell_type": "code",
   "execution_count": null,
   "metadata": {},
   "outputs": [],
   "source": []
  },
  {
   "cell_type": "code",
   "execution_count": null,
   "metadata": {},
   "outputs": [],
   "source": []
  }
 ],
 "metadata": {
  "kernelspec": {
   "display_name": "Python 3",
   "language": "python",
   "name": "python3"
  },
  "language_info": {
   "codemirror_mode": {
    "name": "ipython",
    "version": 3
   },
   "file_extension": ".py",
   "mimetype": "text/x-python",
   "name": "python",
   "nbconvert_exporter": "python",
   "pygments_lexer": "ipython3",
   "version": "3.6.2"
  }
 },
 "nbformat": 4,
 "nbformat_minor": 2
}
