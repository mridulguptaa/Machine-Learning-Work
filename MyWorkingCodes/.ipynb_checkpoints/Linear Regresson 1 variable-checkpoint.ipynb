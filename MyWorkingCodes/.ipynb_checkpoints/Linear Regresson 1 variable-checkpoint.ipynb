{
 "cells": [
  {
   "cell_type": "code",
   "execution_count": null,
   "metadata": {},
   "outputs": [],
   "source": [
    "### import numpy as np\n",
    "import pandas as pd\n",
    "import matplotlib.pyplot as plt\n",
    "\n",
    "def hypothesis(theta,x):\n",
    "    return theta[0]+theta[1]*x\n",
    "def error(X,Y,theta):\n",
    "    m=X.shape[0]\n",
    "    err=0\n",
    "    for i in range(m):\n",
    "        hx=hypothesis(theta,X[i])\n",
    "\n",
    "        err+=(hx-Y[i])**2\n",
    "        \n",
    "    return err\n",
    "\n",
    "def gradient(X,Y,theta):\n",
    "    m=X.shape[0]\n",
    "    grad=np.zeros((2,))\n",
    "    for i in range(m):\n",
    "        hx=hypothesis(theta,X[i])\n",
    "        grad[0]+=hx-Y[i]\n",
    "        grad[1]+=(hx-Y[i])*X[i]\n",
    "        \n",
    "    return grad\n",
    "\n",
    "def gradientdescent(X,Y,learning_rate=0.005):\n",
    "    theta=np.array([0.0,0.0])\n",
    "    itr=0\n",
    "    \n",
    "    error_list=[]\n",
    "    while itr<100:\n",
    "        grad=gradient(X,Y,theta)\n",
    "        e=error(X,Y,theta)\n",
    "        error_list.append(e)\n",
    "        theta[0]=theta[0]-learning_rate*grad[0]\n",
    "        theta[1]=theta[1]-learning_rate*grad[1]\n",
    "        \n",
    "        itr+=1\n",
    "    return theta,error_list\n",
    "    \n",
    "    \n",
    "\n",
    "dfx = pd.read_csv('linearX.csv')\n",
    "dfy = pd.read_csv('linearY.csv')\n",
    "\n",
    "x = dfx.values\n",
    "y = dfy.values\n",
    "#x=np.random.random((100))\n",
    "#print(x)\n",
    "#y=np.arange(1,6,0.05)\n",
    "#print(y)\n",
    "plt.scatter(x,y)\n",
    "X=(x-x.mean())/x.std()\n",
    "Y=y\n",
    "plt.show()\n",
    "final_theta,final_error_list=gradientdescent(X,Y)\n",
    "plt.plot(final_error_list)\n",
    "print(final_theta)\n"
   ]
  },
  {
   "cell_type": "code",
   "execution_count": null,
   "metadata": {},
   "outputs": [],
   "source": [
    "print(final_theta)\n",
    "xtest=np.linspace(-2,5,10)\n",
    "plt.scatter(X,Y,color='green')\n",
    "plt.plot(xtest,hypothesis(final_theta,xtest),color='red')\n",
    "plt.show()"
   ]
  }
 ],
 "metadata": {
  "kernelspec": {
   "display_name": "Python 3",
   "language": "python",
   "name": "python3"
  },
  "language_info": {
   "codemirror_mode": {
    "name": "ipython",
    "version": 3
   },
   "file_extension": ".py",
   "mimetype": "text/x-python",
   "name": "python",
   "nbconvert_exporter": "python",
   "pygments_lexer": "ipython3",
   "version": "3.6.2"
  }
 },
 "nbformat": 4,
 "nbformat_minor": 2
}
