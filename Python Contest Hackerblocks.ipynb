{
 "cells": [
  {
   "cell_type": "markdown",
   "metadata": {},
   "source": [
    "# DELHI ODD EVEN\n"
   ]
  },
  {
   "cell_type": "code",
   "execution_count": 10,
   "metadata": {},
   "outputs": [
    {
     "name": "stdout",
     "output_type": "stream",
     "text": [
      "1\n",
      "12345\n",
      "Yes\n"
     ]
    }
   ],
   "source": [
    "import math\n",
    "x=0\n",
    "t=int(input())\n",
    "while t>0:\n",
    "    a=int(input())\n",
    "    if a%2 is 0:\n",
    "       # print(\"even hai\")\n",
    "        l=int(a%10)\n",
    "        a=a/10\n",
    "        sl=int(a%10)\n",
    "        sl=sl*10+l\n",
    "        if sl%4 is 0:\n",
    "            print(\"Yes\")\n",
    "        else:\n",
    "            print(\"No\")\n",
    "    else:\n",
    "        #print(\"Odd hai\")\n",
    "        \n",
    "        while a>0:\n",
    "            #z.append(a%10)\n",
    "            x+=int(a%10)\n",
    "            a=a/10\n",
    "        #s=sum(z)\n",
    "        if x%3 is 0:\n",
    "            print(\"Yes\")\n",
    "        else:\n",
    "            print(\"No\")\n",
    "    t=t-1\n",
    "#print(z)\n",
    "#print(x)"
   ]
  },
  {
   "cell_type": "markdown",
   "metadata": {},
   "source": [
    "# BINARY TO DECIMAL\n"
   ]
  },
  {
   "cell_type": "code",
   "execution_count": 21,
   "metadata": {},
   "outputs": [
    {
     "name": "stdout",
     "output_type": "stream",
     "text": [
      "101010\n",
      "42\n"
     ]
    }
   ],
   "source": [
    "n=input()\n",
    "a=0\n",
    "num=0\n",
    "for i in n[::-1]:\n",
    "    num+=(ord(i)-48)*(2**a)\n",
    "    a+=1\n",
    "print(num)\n",
    "    \n"
   ]
  },
  {
   "cell_type": "markdown",
   "metadata": {},
   "source": [
    "# SIMPLE INPUT\n"
   ]
  },
  {
   "cell_type": "code",
   "execution_count": null,
   "metadata": {},
   "outputs": [],
   "source": [
    "s=0\n",
    "while s>=0:\n",
    "    a=int(input())\n",
    "    s+=a\n",
    "    if s>=0:\n",
    "        print(a)"
   ]
  },
  {
   "cell_type": "markdown",
   "metadata": {},
   "source": [
    "# Check Prime"
   ]
  },
  {
   "cell_type": "code",
   "execution_count": null,
   "metadata": {},
   "outputs": [],
   "source": [
    "n=int(input())\n",
    "flag=0\n",
    "mid=int(n/2)\n",
    "for i in range(2,mid+1):\n",
    "    if n%i is 0:\n",
    "        print(\"Not Prime\")\n",
    "        flag+=1\n",
    "        break\n",
    "if flag is 0:\n",
    "    print(\"Prime\")\n",
    "    "
   ]
  },
  {
   "cell_type": "markdown",
   "metadata": {},
   "source": [
    "# PYTHAGOREAN'S CHALLENGE\n"
   ]
  },
  {
   "cell_type": "code",
   "execution_count": 26,
   "metadata": {},
   "outputs": [
    {
     "ename": "SyntaxError",
     "evalue": "invalid syntax (<ipython-input-26-38ad0e78477e>, line 15)",
     "output_type": "error",
     "traceback": [
      "\u001b[1;36m  File \u001b[1;32m\"<ipython-input-26-38ad0e78477e>\"\u001b[1;36m, line \u001b[1;32m15\u001b[0m\n\u001b[1;33m    t=t-1\u001b[0m\n\u001b[1;37m    ^\u001b[0m\n\u001b[1;31mSyntaxError\u001b[0m\u001b[1;31m:\u001b[0m invalid syntax\n"
     ]
    }
   ],
   "source": [
    "import math\n",
    "l=[]\n",
    "t=int(input())\n",
    "while t>0:\n",
    "    n=int(input())\n",
    "    mid=int(n/2)\n",
    "    for i in range(0,mid+1):      \n",
    "       \n",
    "    \n",
    "    \n",
    "    \n",
    "    b=n-i**2\n",
    "        b=int(sqrt(b)\n",
    "        #print(b)\n",
    "        if b**2+i**2==n\n",
    "              #temp=[i,b]\n",
    "              #l.append(temp)\n",
    "    t=t-1\n",
    "#l=l.sort()\n",
    "#print(l)\n",
    "            "
   ]
  },
  {
   "cell_type": "code",
   "execution_count": 11,
   "metadata": {},
   "outputs": [
    {
     "name": "stdout",
     "output_type": "stream",
     "text": [
      "1\n",
      "1\n",
      "(0, 1) \n",
      "\n"
     ]
    }
   ],
   "source": [
    "import math\n",
    "\n",
    "t=int(input())\n",
    "while t>0:\n",
    "    l=[]\n",
    "    ans=[]\n",
    "    already=[]\n",
    "    n=int(input())\n",
    "    mid=int(math.sqrt(n))\n",
    "    for i in range(0,mid+1):\n",
    "        if i in already:\n",
    "            continue\n",
    "            #print(\"passing\")\n",
    "        b=int(math.sqrt(n-i**2))\n",
    "        if (i**2)+(b**2) ==n:\n",
    "            #print(\"yes\")\n",
    "            already.append(i)\n",
    "            already.append(b)\n",
    "            l=(i,b)\n",
    "            #l=sorted(l)\n",
    "            #print(l)\n",
    "            #l=l.sort()\n",
    "            if l not in ans:\n",
    "               # print(\"adding\",l)\n",
    "                ans.append(l)\n",
    "                \n",
    "                #print(ans)\n",
    "    #print(ans) \n",
    "    for k in ans:\n",
    "        print(k,end=' ')\n",
    "    t-=1\n",
    "    print(\"\\n\")\n",
    "#ans=ans.sort()\n",
    "#print(ans)\n",
    "       "
   ]
  },
  {
   "cell_type": "markdown",
   "metadata": {},
   "source": [
    "# Quicksort"
   ]
  },
  {
   "cell_type": "code",
   "execution_count": 17,
   "metadata": {},
   "outputs": [
    {
     "name": "stdout",
     "output_type": "stream",
     "text": [
      "5\n",
      "1 \n",
      "5\n",
      "3\n",
      "4\n",
      "2\n",
      "[1, 2, 3, 4, 5]\n"
     ]
    }
   ],
   "source": [
    "def quicksort(l,start,end):\n",
    "    if start>end:\n",
    "        return\n",
    "    pivot=end\n",
    "    x=start-1\n",
    "    for j in range(start,pivot):\n",
    "        if l[pivot]>=l[j]:\n",
    "            x+=1\n",
    "            l[j],l[x]=l[x],l[j]\n",
    "    l[pivot],l[x+1]=l[x+1],l[pivot]\n",
    "    quicksort(l,start,x)\n",
    "    quicksort(l,x+2,end)\n",
    "    \n",
    "    \n",
    "\n",
    "n=int(input())\n",
    "l=[]\n",
    "for i in range(n):\n",
    "    a=int(input())\n",
    "    l.append(a)\n",
    "quicksort(l,0,n-1)\n",
    "print(l)\n",
    "    "
   ]
  },
  {
   "cell_type": "markdown",
   "metadata": {},
   "source": [
    "# Balanced Paranthesis"
   ]
  },
  {
   "cell_type": "markdown",
   "metadata": {},
   "source": [
    " include<bits/stdc++.h>\n",
    "using namespace std;\n",
    "define MAX_SIZE 100\n",
    "\n",
    "void _printParenthesis(int pos, int n, int open, int close);\n",
    "\n",
    "// Wrapper over _printParenthesis()\n",
    "void printParenthesis(int n)\n",
    "{\n",
    "    if(n > 0)\n",
    "        _printParenthesis(0, n, 0, 0);\n",
    "    return;\n",
    "}\n",
    "\n",
    "void _printParenthesis(int pos, int n, int open, int close)\n",
    "{\n",
    "    static char str[MAX_SIZE];\n",
    "\n",
    "    if(close == n)\n",
    "    {\n",
    "        printf(\"%s \\n\", str);\n",
    "        return;\n",
    "    }\n",
    "    else\n",
    "    {\n",
    "        if(open > close)\n",
    "        {\n",
    "            str[pos] = ')';\n",
    "            _printParenthesis(pos+1, n, open, close+1);\n",
    "        }\n",
    "\n",
    "        if(open < n)\n",
    "        {\n",
    "        str[pos] = '(';\n",
    "        _printParenthesis(pos+1, n, open+1, close);\n",
    "        }\n",
    "    }\n",
    "}"
   ]
  },
  {
   "cell_type": "code",
   "execution_count": 53,
   "metadata": {},
   "outputs": [
    {
     "name": "stdout",
     "output_type": "stream",
     "text": [
      "2\n",
      "()() \n",
      "(()) \n"
     ]
    }
   ],
   "source": [
    "\n",
    "def parenthesis(str,pos,n,open,close):\n",
    "    \n",
    "    if close==n:\n",
    "        for i in str:\n",
    "            print(i,end='')\n",
    "        print(\" \")\n",
    "        \n",
    "        return\n",
    "    else:\n",
    "        if open>close:\n",
    "            str[pos]=')'\n",
    "            parenthesis(str,pos+1,n,open,close+1)\n",
    "        if open<n:\n",
    "            str[pos]='('\n",
    "            parenthesis(str,pos+1,n,open+1,close)\n",
    "\n",
    "n=int(input())\n",
    "size=2*n\n",
    "str=[0]*size\n",
    "parenthesis(str,0,n,0,0)\n"
   ]
  },
  {
   "cell_type": "code",
   "execution_count": 31,
   "metadata": {},
   "outputs": [
    {
     "name": "stdout",
     "output_type": "stream",
     "text": [
      "[0, 0, 0, 0, 0, 0, 0, 0, 0, 0]\n",
      "[0, 100, 0, 0, 0, 0, 0, 0, 0, 0]\n"
     ]
    }
   ],
   "source": [
    "l=[0]*10\n",
    "print(l)\n",
    "l[1]=100\n",
    "print(l)"
   ]
  },
  {
   "cell_type": "code",
   "execution_count": 39,
   "metadata": {},
   "outputs": [
    {
     "name": "stdout",
     "output_type": "stream",
     "text": [
      "1\n",
      "2\n",
      "3\n"
     ]
    }
   ],
   "source": [
    "str=[1,2,3,4]\n",
    "for i in str[0:3]:\n",
    "    print(i)"
   ]
  },
  {
   "cell_type": "markdown",
   "metadata": {},
   "source": [
    "## function to get length of list and sort in reverse order"
   ]
  },
  {
   "cell_type": "code",
   "execution_count": 21,
   "metadata": {},
   "outputs": [
    {
     "name": "stdout",
     "output_type": "stream",
     "text": [
      "6\n",
      "['a', 'case', 'hello', 'is', 'test', 'this']\n",
      "['is', 'hello', 'a', 'case', 'test', 'this']\n",
      "ghello\n",
      "['a', 'case']\n"
     ]
    }
   ],
   "source": [
    "s=\"hello this is a test case\"\n",
    "l=s.split()\n",
    "length=0\n",
    "for i in l:\n",
    "    length+=1\n",
    "print(length)\n",
    "l=sorted(l)\n",
    "print(l)\n",
    "import random\n",
    "random.shuffle(l)\n",
    "print(l)\n",
    "print(\"ghello\")\n",
    "print(l[-4:-2])\n",
    "##   print(j,end=' ')"
   ]
  },
  {
   "cell_type": "code",
   "execution_count": null,
   "metadata": {},
   "outputs": [],
   "source": []
  }
 ],
 "metadata": {
  "kernelspec": {
   "display_name": "Python 3",
   "language": "python",
   "name": "python3"
  },
  "language_info": {
   "codemirror_mode": {
    "name": "ipython",
    "version": 3
   },
   "file_extension": ".py",
   "mimetype": "text/x-python",
   "name": "python",
   "nbconvert_exporter": "python",
   "pygments_lexer": "ipython3",
   "version": "3.6.2"
  }
 },
 "nbformat": 4,
 "nbformat_minor": 2
}
